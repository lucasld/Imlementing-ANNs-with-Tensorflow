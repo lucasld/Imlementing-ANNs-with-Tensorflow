{
 "cells": [
  {
   "cell_type": "code",
   "execution_count": 1,
   "metadata": {},
   "outputs": [],
   "source": [
    "import os\n",
    "import glob\n",
    "import imageio\n",
    "import matplotlib.pyplot as plt\n",
    "import numpy as np\n",
    "import PIL\n",
    "from tensorflow.keras import layers\n",
    "import time\n",
    "\n",
    "from IPython import display"
   ]
  },
  {
   "cell_type": "code",
   "execution_count": 2,
   "metadata": {},
   "outputs": [
    {
     "name": "stdout",
     "output_type": "stream",
     "text": [
      "[b'aircraft carrier', b'airplane', b'alarm clock', b'ambulance', b'angel', b'animal migration', b'ant', b'anvil', b'apple', b'arm']\n"
     ]
    }
   ],
   "source": [
    "import urllib\n",
    "import ssl\n",
    "ssl._create_default_https_context = ssl._create_unverified_context\n",
    "\n",
    "categories = [line.rstrip(b'\\n') for line in urllib.request.urlopen('https://raw.githubusercontent.com/googlecreativelab/quickdraw-dataset/master/categories.txt')]\n",
    "print(categories[:10])\n",
    "category = 'candle'"
   ]
  },
  {
   "cell_type": "code",
   "execution_count": 3,
   "metadata": {},
   "outputs": [
    {
     "name": "stdout",
     "output_type": "stream",
     "text": [
      "141545 images to train on\n"
     ]
    }
   ],
   "source": [
    "# Creates a folder to download the original drawings into.\n",
    "# We chose to use the numpy format : 1x784 pixel vectors, with values going from 0 (white) to 255 (black). We reshape them later to 28x28 grids and normalize the pixel intensity to [-1, 1]\n",
    "if not os.path.isdir('npy_files'):\n",
    "    os.mkdir('npy_files')\n",
    "    \n",
    "url = f'https://storage.googleapis.com/quickdraw_dataset/full/numpy_bitmap/{category}.npy'  \n",
    "urllib.request.urlretrieve(url, f'npy_files/{category}.npy')\n",
    "\n",
    "images = np.load(f'npy_files/{category}.npy')\n",
    "print(f'{len(images)} images to train on')\n",
    "\n",
    "# You can limit the amount of images you use for training by setting :\n",
    "train_images = images[:30_000]\n",
    "# You should also define a samller subset of the images for testing..\n",
    "# TODO\n",
    "\n",
    "# Notice that this to numpy format contains 1x784 pixel vectors, with values going from 0 (white) to 255 (black). We reshape them later to 28x28 grids and normalize the pixel intensity to [-1, 1]"
   ]
  },
  {
   "cell_type": "code",
   "execution_count": 4,
   "metadata": {},
   "outputs": [
    {
     "data": {
      "text/plain": [
       "<matplotlib.image.AxesImage at 0x146e810d0>"
      ]
     },
     "execution_count": 4,
     "metadata": {},
     "output_type": "execute_result"
    },
    {
     "data": {
      "image/png": "[encoded data removed]",
      "text/plain": [
       "<Figure size 432x288 with 1 Axes>"
      ]
     },
     "metadata": {
      "needs_background": "light"
     },
     "output_type": "display_data"
    }
   ],
   "source": [
    "import matplotlib.pyplot as plt\n",
    "plt.imshow(np.reshape(images[5], (28,28)))\n"
   ]
  },
  {
   "cell_type": "code",
   "execution_count": 5,
   "metadata": {},
   "outputs": [],
   "source": [
    "import tensorflow as tf"
   ]
  },
  {
   "cell_type": "markdown",
   "metadata": {},
   "source": [
    "### Preprocessing:"
   ]
  },
  {
   "cell_type": "code",
   "execution_count": 6,
   "metadata": {},
   "outputs": [],
   "source": [
    "# from numpy to tf.Data.Dataset\n",
    "dataset = tf.data.Dataset.from_tensor_slices(train_images)\n",
    "# reshaping\n",
    "dataset = dataset.map(lambda x: tf.reshape(x, (28, 28, 1)))\n",
    "# normalize\n",
    "dataset = dataset.map(lambda x: x/128-1)\n",
    "# cache\n",
    "dataset = dataset.cache()\n",
    "# shuffling\n",
    "dataset = dataset.shuffle(1000)\n",
    "# batching\n",
    "dataset = dataset.batch(32)\n",
    "# prefetching\n",
    "dataset = dataset.prefetch(100)"
   ]
  },
  {
   "cell_type": "markdown",
   "metadata": {},
   "source": [
    "### Model:"
   ]
  },
  {
   "cell_type": "code",
   "execution_count": 7,
   "metadata": {},
   "outputs": [],
   "source": [
    "class Discriminator(tf.keras.Model):\n",
    "    def __init__(self) -> None:\n",
    "        super(Discriminator, self).__init__()\n",
    "        self.layer_list = [\n",
    "            layers.Conv2D(\n",
    "                filters=64, kernel_size=(3, 3), strides=(2, 2), padding='same',\n",
    "                input_shape= [28, 28, 1]),\n",
    "            layers.LeakyReLU(),\n",
    "            layers.Dropout(rate= 0.3),\n",
    "\n",
    "            layers.Conv2D(\n",
    "                filters=128, kernel_size=(3, 3), strides=(2, 2), padding='same'),\n",
    "            layers.LeakyReLU(),\n",
    "            layers.Dropout(rate= 0.3),\n",
    "\n",
    "            layers.Flatten(),\n",
    "            layers.Dense(1, activation = \"sigmoid\")\n",
    "        ]\n",
    "        \"\"\"\n",
    "        self.layer_list = [\n",
    "            tf.keras.layers.Conv2D(filters=10, kernel_size=3),\n",
    "            tf.keras.layers.Conv2D(filters=5, kernel_size=3),\n",
    "            tf.keras.layers.Flatten(),\n",
    "            tf.keras.layers.Dense(10),\n",
    "            tf.keras.layers.Dense(1, activation='sigmoid')\n",
    "        ]\"\"\"\n",
    "    \n",
    "    @tf.function(experimental_relax_shapes=True)\n",
    "    def call(self, inputs) -> tf.Tensor:\n",
    "        x = inputs\n",
    "        for layer in self.layer_list:\n",
    "            x = layer(x, training=True)\n",
    "        return x"
   ]
  },
  {
   "cell_type": "code",
   "execution_count": 8,
   "metadata": {},
   "outputs": [],
   "source": [
    "class Generator(tf.keras.Model):\n",
    "    def __init__(self) -> None:\n",
    "        super(Generator, self).__init__()\n",
    "        self.layer_list = [\n",
    "            # sample latent space\n",
    "            layers.Dense(7*7*256, use_bias=False, input_shape=(100,)),\n",
    "            layers.BatchNormalization(),\n",
    "            layers.LeakyReLU(),\n",
    "\n",
    "            # reshape from 1d to 2d\n",
    "            layers.Reshape((7,7,256)),\n",
    "\n",
    "            # create image\n",
    "            layers.Conv2DTranspose(\n",
    "                filters= 128, kernel_size=(3, 3), strides=(1, 1), padding='same', \n",
    "                use_bias=False),\n",
    "            layers.BatchNormalization(),\n",
    "            layers.LeakyReLU(),\n",
    "\n",
    "            layers.Conv2DTranspose(\n",
    "                filters= 64, kernel_size=(3, 3), strides=(2, 2), padding='same', \n",
    "                use_bias=False),\n",
    "            layers.BatchNormalization(),\n",
    "            layers.LeakyReLU(),\n",
    "\n",
    "            layers.Conv2DTranspose(\n",
    "                filters= 1, kernel_size=(3, 3), strides=(2, 2), padding='same', \n",
    "                use_bias=False, activation='tanh')\n",
    "        ]\n",
    "        \"\"\"\n",
    "        self.layer_list = [\n",
    "            tf.keras.layers.Dense(5),\n",
    "            tf.keras.layers.Dense(49),\n",
    "            tf.keras.layers.Reshape((7, 7, 1)),\n",
    "            tf.keras.layers.Conv2DTranspose(8, 3, 2, padding='same'),\n",
    "            tf.keras.layers.Conv2DTranspose(1, 3, 2, padding='same', activation='tanh')\n",
    "        ]\"\"\"\n",
    "    \n",
    "    @tf.function(experimental_relax_shapes=True)\n",
    "    def call(self, inputs) -> tf.Tensor:\n",
    "        x = inputs\n",
    "        for layer in self.layer_list:\n",
    "            x = layer(x, training=True)\n",
    "        return x"
   ]
  },
  {
   "cell_type": "code",
   "execution_count": 9,
   "metadata": {},
   "outputs": [],
   "source": [
    "def generator_loss(fake_output, loss_function):\n",
    "    return loss_function(tf.ones_like(fake_output), fake_output)\n",
    "\n",
    "def discriminator_loss(fake_output, real_output, loss_function):\n",
    "    real_loss = loss_function(tf.ones_like(real_output), real_output)\n",
    "    fake_loss = loss_function(tf.zeros_like(fake_output), fake_output)\n",
    "    total_loss = real_loss + fake_loss\n",
    "    return total_loss"
   ]
  },
  {
   "cell_type": "code",
   "execution_count": 10,
   "metadata": {},
   "outputs": [],
   "source": [
    "@tf.function\n",
    "def train_step(images, generator, discriminator, loss_function, optimizer_gen, optimizer_dis, noise_dim):\n",
    "    N = tf.shape(images)[0]\n",
    "    # generate fake data\n",
    "    noise = tf.random.normal([N, noise_dim])\n",
    "\n",
    "    with tf.GradientTape() as gen_tape, tf.GradientTape() as disc_tape:\n",
    "        generated_images = generator(noise, training=True)\n",
    "\n",
    "        real_output = discriminator(images, training=True)\n",
    "        fake_output = discriminator(generated_images, training=True)\n",
    "\n",
    "        gen_loss = generator_loss(fake_output, loss_function)\n",
    "        disc_loss = discriminator_loss(real_output, fake_output, loss_function)\n",
    "\n",
    "    gradients_of_generator = gen_tape.gradient(gen_loss, generator.trainable_variables)\n",
    "    gradients_of_discriminator = disc_tape.gradient(disc_loss, discriminator.trainable_variables)\n",
    "\n",
    "    optimizer_gen.apply_gradients(zip(gradients_of_generator, generator.trainable_variables))\n",
    "    optimizer_dis.apply_gradients(zip(gradients_of_discriminator, discriminator.trainable_variables))"
   ]
  },
  {
   "cell_type": "code",
   "execution_count": 11,
   "metadata": {},
   "outputs": [],
   "source": [
    "def training(generator, discriminator, datasets, loss_function, optimizer_gen, optimizer_dis, noise_dim=100, epochs=5):\n",
    "    gen_losses = []\n",
    "    for e in range(epochs):\n",
    "        print(\"Epoch:\", e)\n",
    "        for i, real_data in enumerate(datasets['train']):\n",
    "            train_step(real_data, generator, discriminator, loss_function, optimizer_gen, optimizer_dis, noise_dim)\n",
    "    return gen_losses\n",
    "    \n"
   ]
  },
  {
   "cell_type": "code",
   "execution_count": 12,
   "metadata": {},
   "outputs": [
    {
     "name": "stdout",
     "output_type": "stream",
     "text": [
      "Epoch: 0\n",
      "Epoch: 1\n",
      "Epoch: 2\n",
      "Epoch: 3\n",
      "Epoch: 4\n"
     ]
    },
    {
     "data": {
      "image/png": "[encoded data removed]",
      "text/plain": [
       "<Figure size 432x288 with 1 Axes>"
      ]
     },
     "metadata": {
      "needs_background": "light"
     },
     "output_type": "display_data"
    }
   ],
   "source": [
    "gen = Generator()\n",
    "dis = Discriminator()\n",
    "noise_dim = 100\n",
    "\n",
    "example_img = gen(tf.random.normal((32, noise_dim)))[0].numpy()\n",
    "plt.imshow(example_img[:,:,0])\n",
    "\n",
    "gen_losses = training(\n",
    "    gen, dis,\n",
    "    {'train':dataset},\n",
    "    tf.keras.losses.BinaryCrossentropy(from_logits=True),\n",
    "    tf.keras.optimizers.Adam(0.001),\n",
    "    tf.keras.optimizers.Adam(0.001),\n",
    "    noise_dim=noise_dim)\n"
   ]
  },
  {
   "cell_type": "code",
   "execution_count": 14,
   "metadata": {},
   "outputs": [
    {
     "data": {
      "text/plain": [
       "<matplotlib.image.AxesImage at 0x14846b6d0>"
      ]
     },
     "execution_count": 14,
     "metadata": {},
     "output_type": "execute_result"
    },
    {
     "data": {
      "image/png": "[encoded data removed]",
      "text/plain": [
       "<Figure size 432x288 with 1 Axes>"
      ]
     },
     "metadata": {
      "needs_background": "light"
     },
     "output_type": "display_data"
    }
   ],
   "source": [
    "example_img = gen(tf.random.normal((32, 100)))[0].numpy()\n",
    "plt.imshow(example_img[:,:,0])\n"
   ]
  },
  {
   "cell_type": "code",
   "execution_count": 15,
   "metadata": {},
   "outputs": [
    {
     "data": {
      "image/png": "[encoded data removed]",
      "text/plain": [
       "<Figure size 432x288 with 1 Axes>"
      ]
     },
     "metadata": {
      "needs_background": "light"
     },
     "output_type": "display_data"
    }
   ],
   "source": [
    "for img in dataset.take(1):\n",
    "    plt.imshow(img[0][:,:,0])"
   ]
  }
 ],
 "metadata": {
  "interpreter": {
   "hash": "aee8b7b246df8f9039afb4144a1f6fd8d2ca17a180786b69acc140d282b71a49"
  },
  "kernelspec": {
   "display_name": "Python 3.7.4 64-bit",
   "language": "python",
   "name": "python3"
  },
  "language_info": {
   "codemirror_mode": {
    "name": "ipython",
    "version": 3
   },
   "file_extension": ".py",
   "mimetype": "text/x-python",
   "name": "python",
   "nbconvert_exporter": "python",
   "pygments_lexer": "ipython3",
   "version": "3.7.4"
  },
  "orig_nbformat": 4
 },
 "nbformat": 4,
 "nbformat_minor": 2
}
